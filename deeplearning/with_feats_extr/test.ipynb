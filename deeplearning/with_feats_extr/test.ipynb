{
 "cells": [
  {
   "cell_type": "code",
   "execution_count": 1,
   "metadata": {},
   "outputs": [],
   "source": [
    "from keras.layers import (\n",
    "    Input, Conv1D, MaxPooling1D, Dropout, BatchNormalization, Activation, Add, Flatten, Dense)\n",
    "from keras.models import Model\n",
    "import numpy as np"
   ]
  },
  {
   "cell_type": "code",
   "execution_count": 9,
   "metadata": {},
   "outputs": [
    {
     "name": "stdout",
     "output_type": "stream",
     "text": [
      "Model: \"model_7\"\n",
      "_________________________________________________________________\n",
      " Layer (type)                Output Shape              Param #   \n",
      "=================================================================\n",
      " signal (InputLayer)         [(None, 12, 32)]          0         \n",
      "                                                                 \n",
      " max_pooling1d_7 (MaxPooling  (None, 12, 16)           0         \n",
      " 1D)                                                             \n",
      "                                                                 \n",
      " dense_33 (Dense)            (None, 12, 16)            272       \n",
      "                                                                 \n",
      " max_pooling1d_8 (MaxPooling  (None, 12, 8)            0         \n",
      " 1D)                                                             \n",
      "                                                                 \n",
      " dense_34 (Dense)            (None, 12, 8)             72        \n",
      "                                                                 \n",
      " dense_35 (Dense)            (None, 12, 4)             36        \n",
      "                                                                 \n",
      " flatten_7 (Flatten)         (None, 48)                0         \n",
      "                                                                 \n",
      " dense_36 (Dense)            (None, 48)                2352      \n",
      "                                                                 \n",
      " dense_37 (Dense)            (None, 24)                1176      \n",
      "                                                                 \n",
      " dense_38 (Dense)            (None, 12)                300       \n",
      "                                                                 \n",
      " dense_39 (Dense)            (None, 3)                 39        \n",
      "                                                                 \n",
      "=================================================================\n",
      "Total params: 4,247\n",
      "Trainable params: 4,247\n",
      "Non-trainable params: 0\n",
      "_________________________________________________________________\n"
     ]
    }
   ],
   "source": [
    "lead_num = 12\n",
    "feat_num = 32\n",
    "kernel_size = 16\n",
    "kernel_initializer = 'he_normal'\n",
    "signal = Input(shape=(lead_num, feat_num), dtype=np.float32, name='signal')\n",
    "x = signal\n",
    "x = MaxPooling1D(2, data_format=\"channels_first\")(x)\n",
    "x = Dense(16, activation='relu', kernel_initializer=kernel_initializer)(x)\n",
    "x = MaxPooling1D(2, data_format=\"channels_first\")(x)\n",
    "x = Dense(8, activation='relu', kernel_initializer=kernel_initializer)(x)\n",
    "x = Dense(4, activation='relu', kernel_initializer=kernel_initializer)(x)\n",
    "x = Flatten()(x)\n",
    "x = Dense(48, activation='relu', kernel_initializer=kernel_initializer)(x)\n",
    "x = Dense(24, activation='relu', kernel_initializer=kernel_initializer)(x)\n",
    "x = Dense(12, activation='relu', kernel_initializer=kernel_initializer)(x)\n",
    "diagn = Dense(3, activation='sigmoid', kernel_initializer=kernel_initializer)(x)\n",
    "model = Model(signal, diagn)\n",
    "model.summary()"
   ]
  },
  {
   "cell_type": "code",
   "execution_count": null,
   "metadata": {},
   "outputs": [],
   "source": []
  }
 ],
 "metadata": {
  "kernelspec": {
   "display_name": "base",
   "language": "python",
   "name": "python3"
  },
  "language_info": {
   "codemirror_mode": {
    "name": "ipython",
    "version": 3
   },
   "file_extension": ".py",
   "mimetype": "text/x-python",
   "name": "python",
   "nbconvert_exporter": "python",
   "pygments_lexer": "ipython3",
   "version": "3.10.9"
  },
  "orig_nbformat": 4
 },
 "nbformat": 4,
 "nbformat_minor": 2
}
